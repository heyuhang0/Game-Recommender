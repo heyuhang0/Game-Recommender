{
    "cells": [
        {
            "cell_type": "code",
            "execution_count": 1,
            "source": [
                "import pandas as pd\r\n",
                "\r\n",
                "dataset = pd.read_csv('./data/steam-store-games/steam.csv')\r\n",
                "descriptions = pd.read_csv('./data/steam-store-games/steam_description_data.csv')\r\n",
                "\r\n",
                "dataset = dataset.set_index('appid').join(descriptions.set_index('steam_appid'))\r\n",
                "\r\n",
                "dataset.head()"
            ],
            "outputs": [
                {
                    "output_type": "execute_result",
                    "data": {
                        "text/plain": [
                            "                            name release_date  english         developer  \\\n",
                            "appid                                                                      \n",
                            "10                Counter-Strike   2000-11-01        1             Valve   \n",
                            "20         Team Fortress Classic   1999-04-01        1             Valve   \n",
                            "30                 Day of Defeat   2003-05-01        1             Valve   \n",
                            "40            Deathmatch Classic   2001-06-01        1             Valve   \n",
                            "50     Half-Life: Opposing Force   1999-11-01        1  Gearbox Software   \n",
                            "\n",
                            "      publisher          platforms  required_age  \\\n",
                            "appid                                              \n",
                            "10        Valve  windows;mac;linux             0   \n",
                            "20        Valve  windows;mac;linux             0   \n",
                            "30        Valve  windows;mac;linux             0   \n",
                            "40        Valve  windows;mac;linux             0   \n",
                            "50        Valve  windows;mac;linux             0   \n",
                            "\n",
                            "                                              categories  genres  \\\n",
                            "appid                                                              \n",
                            "10     Multi-player;Online Multi-Player;Local Multi-P...  Action   \n",
                            "20     Multi-player;Online Multi-Player;Local Multi-P...  Action   \n",
                            "30                 Multi-player;Valve Anti-Cheat enabled  Action   \n",
                            "40     Multi-player;Online Multi-Player;Local Multi-P...  Action   \n",
                            "50     Single-player;Multi-player;Valve Anti-Cheat en...  Action   \n",
                            "\n",
                            "                      steamspy_tags  achievements  positive_ratings  \\\n",
                            "appid                                                                 \n",
                            "10           Action;FPS;Multiplayer             0            124534   \n",
                            "20           Action;FPS;Multiplayer             0              3318   \n",
                            "30     FPS;World War II;Multiplayer             0              3416   \n",
                            "40           Action;FPS;Multiplayer             0              1273   \n",
                            "50                FPS;Action;Sci-fi             0              5250   \n",
                            "\n",
                            "       negative_ratings  average_playtime  median_playtime             owners  \\\n",
                            "appid                                                                           \n",
                            "10                 3339             17612              317  10000000-20000000   \n",
                            "20                  633               277               62   5000000-10000000   \n",
                            "30                  398               187               34   5000000-10000000   \n",
                            "40                  267               258              184   5000000-10000000   \n",
                            "50                  288               624              415   5000000-10000000   \n",
                            "\n",
                            "       price                               detailed_description  \\\n",
                            "appid                                                             \n",
                            "10      7.19  Play the world's number 1 online action game. ...   \n",
                            "20      3.99  One of the most popular online action games of...   \n",
                            "30      3.99  Enlist in an intense brand of Axis vs. Allied ...   \n",
                            "40      3.99  Enjoy fast-paced multiplayer gaming with Death...   \n",
                            "50      3.99  Return to the Black Mesa Research Facility as ...   \n",
                            "\n",
                            "                                          about_the_game  \\\n",
                            "appid                                                      \n",
                            "10     Play the world's number 1 online action game. ...   \n",
                            "20     One of the most popular online action games of...   \n",
                            "30     Enlist in an intense brand of Axis vs. Allied ...   \n",
                            "40     Enjoy fast-paced multiplayer gaming with Death...   \n",
                            "50     Return to the Black Mesa Research Facility as ...   \n",
                            "\n",
                            "                                       short_description  \n",
                            "appid                                                     \n",
                            "10     Play the world's number 1 online action game. ...  \n",
                            "20     One of the most popular online action games of...  \n",
                            "30     Enlist in an intense brand of Axis vs. Allied ...  \n",
                            "40     Enjoy fast-paced multiplayer gaming with Death...  \n",
                            "50     Return to the Black Mesa Research Facility as ...  "
                        ],
                        "text/html": [
                            "<div>\n",
                            "<style scoped>\n",
                            "    .dataframe tbody tr th:only-of-type {\n",
                            "        vertical-align: middle;\n",
                            "    }\n",
                            "\n",
                            "    .dataframe tbody tr th {\n",
                            "        vertical-align: top;\n",
                            "    }\n",
                            "\n",
                            "    .dataframe thead th {\n",
                            "        text-align: right;\n",
                            "    }\n",
                            "</style>\n",
                            "<table border=\"1\" class=\"dataframe\">\n",
                            "  <thead>\n",
                            "    <tr style=\"text-align: right;\">\n",
                            "      <th></th>\n",
                            "      <th>name</th>\n",
                            "      <th>release_date</th>\n",
                            "      <th>english</th>\n",
                            "      <th>developer</th>\n",
                            "      <th>publisher</th>\n",
                            "      <th>platforms</th>\n",
                            "      <th>required_age</th>\n",
                            "      <th>categories</th>\n",
                            "      <th>genres</th>\n",
                            "      <th>steamspy_tags</th>\n",
                            "      <th>achievements</th>\n",
                            "      <th>positive_ratings</th>\n",
                            "      <th>negative_ratings</th>\n",
                            "      <th>average_playtime</th>\n",
                            "      <th>median_playtime</th>\n",
                            "      <th>owners</th>\n",
                            "      <th>price</th>\n",
                            "      <th>detailed_description</th>\n",
                            "      <th>about_the_game</th>\n",
                            "      <th>short_description</th>\n",
                            "    </tr>\n",
                            "    <tr>\n",
                            "      <th>appid</th>\n",
                            "      <th></th>\n",
                            "      <th></th>\n",
                            "      <th></th>\n",
                            "      <th></th>\n",
                            "      <th></th>\n",
                            "      <th></th>\n",
                            "      <th></th>\n",
                            "      <th></th>\n",
                            "      <th></th>\n",
                            "      <th></th>\n",
                            "      <th></th>\n",
                            "      <th></th>\n",
                            "      <th></th>\n",
                            "      <th></th>\n",
                            "      <th></th>\n",
                            "      <th></th>\n",
                            "      <th></th>\n",
                            "      <th></th>\n",
                            "      <th></th>\n",
                            "      <th></th>\n",
                            "    </tr>\n",
                            "  </thead>\n",
                            "  <tbody>\n",
                            "    <tr>\n",
                            "      <th>10</th>\n",
                            "      <td>Counter-Strike</td>\n",
                            "      <td>2000-11-01</td>\n",
                            "      <td>1</td>\n",
                            "      <td>Valve</td>\n",
                            "      <td>Valve</td>\n",
                            "      <td>windows;mac;linux</td>\n",
                            "      <td>0</td>\n",
                            "      <td>Multi-player;Online Multi-Player;Local Multi-P...</td>\n",
                            "      <td>Action</td>\n",
                            "      <td>Action;FPS;Multiplayer</td>\n",
                            "      <td>0</td>\n",
                            "      <td>124534</td>\n",
                            "      <td>3339</td>\n",
                            "      <td>17612</td>\n",
                            "      <td>317</td>\n",
                            "      <td>10000000-20000000</td>\n",
                            "      <td>7.19</td>\n",
                            "      <td>Play the world's number 1 online action game. ...</td>\n",
                            "      <td>Play the world's number 1 online action game. ...</td>\n",
                            "      <td>Play the world's number 1 online action game. ...</td>\n",
                            "    </tr>\n",
                            "    <tr>\n",
                            "      <th>20</th>\n",
                            "      <td>Team Fortress Classic</td>\n",
                            "      <td>1999-04-01</td>\n",
                            "      <td>1</td>\n",
                            "      <td>Valve</td>\n",
                            "      <td>Valve</td>\n",
                            "      <td>windows;mac;linux</td>\n",
                            "      <td>0</td>\n",
                            "      <td>Multi-player;Online Multi-Player;Local Multi-P...</td>\n",
                            "      <td>Action</td>\n",
                            "      <td>Action;FPS;Multiplayer</td>\n",
                            "      <td>0</td>\n",
                            "      <td>3318</td>\n",
                            "      <td>633</td>\n",
                            "      <td>277</td>\n",
                            "      <td>62</td>\n",
                            "      <td>5000000-10000000</td>\n",
                            "      <td>3.99</td>\n",
                            "      <td>One of the most popular online action games of...</td>\n",
                            "      <td>One of the most popular online action games of...</td>\n",
                            "      <td>One of the most popular online action games of...</td>\n",
                            "    </tr>\n",
                            "    <tr>\n",
                            "      <th>30</th>\n",
                            "      <td>Day of Defeat</td>\n",
                            "      <td>2003-05-01</td>\n",
                            "      <td>1</td>\n",
                            "      <td>Valve</td>\n",
                            "      <td>Valve</td>\n",
                            "      <td>windows;mac;linux</td>\n",
                            "      <td>0</td>\n",
                            "      <td>Multi-player;Valve Anti-Cheat enabled</td>\n",
                            "      <td>Action</td>\n",
                            "      <td>FPS;World War II;Multiplayer</td>\n",
                            "      <td>0</td>\n",
                            "      <td>3416</td>\n",
                            "      <td>398</td>\n",
                            "      <td>187</td>\n",
                            "      <td>34</td>\n",
                            "      <td>5000000-10000000</td>\n",
                            "      <td>3.99</td>\n",
                            "      <td>Enlist in an intense brand of Axis vs. Allied ...</td>\n",
                            "      <td>Enlist in an intense brand of Axis vs. Allied ...</td>\n",
                            "      <td>Enlist in an intense brand of Axis vs. Allied ...</td>\n",
                            "    </tr>\n",
                            "    <tr>\n",
                            "      <th>40</th>\n",
                            "      <td>Deathmatch Classic</td>\n",
                            "      <td>2001-06-01</td>\n",
                            "      <td>1</td>\n",
                            "      <td>Valve</td>\n",
                            "      <td>Valve</td>\n",
                            "      <td>windows;mac;linux</td>\n",
                            "      <td>0</td>\n",
                            "      <td>Multi-player;Online Multi-Player;Local Multi-P...</td>\n",
                            "      <td>Action</td>\n",
                            "      <td>Action;FPS;Multiplayer</td>\n",
                            "      <td>0</td>\n",
                            "      <td>1273</td>\n",
                            "      <td>267</td>\n",
                            "      <td>258</td>\n",
                            "      <td>184</td>\n",
                            "      <td>5000000-10000000</td>\n",
                            "      <td>3.99</td>\n",
                            "      <td>Enjoy fast-paced multiplayer gaming with Death...</td>\n",
                            "      <td>Enjoy fast-paced multiplayer gaming with Death...</td>\n",
                            "      <td>Enjoy fast-paced multiplayer gaming with Death...</td>\n",
                            "    </tr>\n",
                            "    <tr>\n",
                            "      <th>50</th>\n",
                            "      <td>Half-Life: Opposing Force</td>\n",
                            "      <td>1999-11-01</td>\n",
                            "      <td>1</td>\n",
                            "      <td>Gearbox Software</td>\n",
                            "      <td>Valve</td>\n",
                            "      <td>windows;mac;linux</td>\n",
                            "      <td>0</td>\n",
                            "      <td>Single-player;Multi-player;Valve Anti-Cheat en...</td>\n",
                            "      <td>Action</td>\n",
                            "      <td>FPS;Action;Sci-fi</td>\n",
                            "      <td>0</td>\n",
                            "      <td>5250</td>\n",
                            "      <td>288</td>\n",
                            "      <td>624</td>\n",
                            "      <td>415</td>\n",
                            "      <td>5000000-10000000</td>\n",
                            "      <td>3.99</td>\n",
                            "      <td>Return to the Black Mesa Research Facility as ...</td>\n",
                            "      <td>Return to the Black Mesa Research Facility as ...</td>\n",
                            "      <td>Return to the Black Mesa Research Facility as ...</td>\n",
                            "    </tr>\n",
                            "  </tbody>\n",
                            "</table>\n",
                            "</div>"
                        ]
                    },
                    "metadata": {},
                    "execution_count": 1
                }
            ],
            "metadata": {}
        },
        {
            "cell_type": "code",
            "execution_count": 2,
            "source": [
                "import re\r\n",
                "import string\r\n",
                "\r\n",
                "html_cleanr = re.compile('<.*?>|&([a-z0-9]+|#[0-9]{1,6}|#x[0-9a-f]{1,6});')\r\n",
                "remove_punctuation_table = str.maketrans(dict.fromkeys(string.punctuation))\r\n",
                "\r\n",
                "def tokenize(text):\r\n",
                "    text = re.sub(html_cleanr, '', text)\r\n",
                "    text = text.translate(remove_punctuation_table)\r\n",
                "    text = text.lower()\r\n",
                "    return text.split()"
            ],
            "outputs": [],
            "metadata": {}
        },
        {
            "cell_type": "code",
            "execution_count": 3,
            "source": [
                "appids = dataset.index.values\r\n",
                "names = dataset['name'].values\r\n",
                "corpus = dataset['detailed_description'].values\r\n",
                "tokenized_corpus = [tokenize(doc) for doc in corpus]"
            ],
            "outputs": [],
            "metadata": {}
        },
        {
            "cell_type": "code",
            "execution_count": 4,
            "source": [
                "from rank_bm25 import BM25Okapi\r\n",
                "\r\n",
                "bm25 = BM25Okapi(tokenized_corpus)"
            ],
            "outputs": [],
            "metadata": {}
        },
        {
            "cell_type": "code",
            "execution_count": 5,
            "source": [
                "import numpy as np\r\n",
                "\r\n",
                "def recommend_single(query_game, N=10):\r\n",
                "    games = dataset[dataset['name'] == query_game]\r\n",
                "    if len(games) == 0:\r\n",
                "        raise ValueError(f'Unknown game name `{query_game}`')\r\n",
                "    query = games['detailed_description'].iloc[0]\r\n",
                "    scores = bm25.get_scores(tokenize(query))\r\n",
                "    # scores *= weights\r\n",
                "    top_n = np.argsort(scores)[::-1][:N]\r\n",
                "    for i in top_n:\r\n",
                "        print(f'https://store.steampowered.com/app/{appids[i]:<6}\\t{names[i]}')"
            ],
            "outputs": [],
            "metadata": {}
        },
        {
            "cell_type": "code",
            "execution_count": 6,
            "source": [
                "recommend_single(\"PLAYERUNKNOWN'S BATTLEGROUNDS\")"
            ],
            "outputs": [
                {
                    "output_type": "stream",
                    "name": "stdout",
                    "text": [
                        "https://store.steampowered.com/app/578080\tPLAYERUNKNOWN'S BATTLEGROUNDS\n",
                        "https://store.steampowered.com/app/931250\tPixel Royale\n",
                        "https://store.steampowered.com/app/658470\tMini Battlegrounds\n",
                        "https://store.steampowered.com/app/474790\tBATTLE PIXEL'S SURVIVAL GROUND\n",
                        "https://store.steampowered.com/app/840130\tBattle Royale: Survivors 究极求生:大逃杀\n",
                        "https://store.steampowered.com/app/769220\tTRAFICO\n",
                        "https://store.steampowered.com/app/903070\tWar.io : Survival Battle Royale\n",
                        "https://store.steampowered.com/app/857240\tThe Prison Experiment: Battle Royale\n",
                        "https://store.steampowered.com/app/433850\tZ1 Battle Royale\n",
                        "https://store.steampowered.com/app/912300\tWar.io : Zombie Battle Royale\n"
                    ]
                }
            ],
            "metadata": {}
        },
        {
            "cell_type": "code",
            "execution_count": 7,
            "source": [
                "recommend_single(\"Counter-Strike\")"
            ],
            "outputs": [
                {
                    "output_type": "stream",
                    "name": "stdout",
                    "text": [
                        "https://store.steampowered.com/app/10    \tCounter-Strike\n",
                        "https://store.steampowered.com/app/204560\tConfrontation\n",
                        "https://store.steampowered.com/app/939000\tCrisis VRigade\n",
                        "https://store.steampowered.com/app/32710 \tArmored Fist 3\n",
                        "https://store.steampowered.com/app/576940\tHunt For Gods\n",
                        "https://store.steampowered.com/app/39000 \tMoonbase Alpha\n",
                        "https://store.steampowered.com/app/627450\tRUGBY 18\n",
                        "https://store.steampowered.com/app/13540 \tTom Clancy's Rainbow Six® Vegas\n",
                        "https://store.steampowered.com/app/240320\tPanzar\n",
                        "https://store.steampowered.com/app/96200 \tSteel Storm: Burning Retribution\n"
                    ]
                }
            ],
            "metadata": {}
        },
        {
            "cell_type": "code",
            "execution_count": 8,
            "source": [
                "recommend_single(\"Half-Life 2\")"
            ],
            "outputs": [
                {
                    "output_type": "stream",
                    "name": "stdout",
                    "text": [
                        "https://store.steampowered.com/app/220   \tHalf-Life 2\n",
                        "https://store.steampowered.com/app/500   \tLeft 4 Dead\n",
                        "https://store.steampowered.com/app/259170\tAlone in the Dark\n",
                        "https://store.steampowered.com/app/279920\tInfinity Runner\n",
                        "https://store.steampowered.com/app/601050\tAttack on Titan 2 - A.O.T.2 - 進撃の巨人２\n",
                        "https://store.steampowered.com/app/34870 \tSniper: Ghost Warrior 2\n",
                        "https://store.steampowered.com/app/408410\tX-Morph: Defense\n",
                        "https://store.steampowered.com/app/236370\tInterstellar Marines\n",
                        "https://store.steampowered.com/app/362890\tBlack Mesa\n",
                        "https://store.steampowered.com/app/513320\tALICE VR\n"
                    ]
                }
            ],
            "metadata": {}
        },
        {
            "cell_type": "code",
            "execution_count": 9,
            "source": [
                "recommend_single(\"Star Wars: Battlefront 2 (Classic, 2005)\")"
            ],
            "outputs": [
                {
                    "output_type": "stream",
                    "name": "stdout",
                    "text": [
                        "https://store.steampowered.com/app/6060  \tStar Wars: Battlefront 2 (Classic, 2005)\n",
                        "https://store.steampowered.com/app/32510 \tLEGO® Star Wars™ III - The Clone Wars™\n",
                        "https://store.steampowered.com/app/6020  \tSTAR WARS™ Jedi Knight - Jedi Academy™\n",
                        "https://store.steampowered.com/app/32430 \tSTAR WARS™ - The Force Unleashed™ Ultimate Sith Edition\n",
                        "https://store.steampowered.com/app/32470 \tSTAR WARS™ Empire at War - Gold Pack\n",
                        "https://store.steampowered.com/app/32500 \tSTAR WARS™: The Force Unleashed™ II\n",
                        "https://store.steampowered.com/app/6030  \tSTAR WARS™ Jedi Knight II - Jedi Outcast™\n",
                        "https://store.steampowered.com/app/32380 \tSTAR WARS™ Jedi Knight: Dark Forces II\n",
                        "https://store.steampowered.com/app/356500\tSTAR WARS™ Galactic Battlegrounds Saga\n",
                        "https://store.steampowered.com/app/456540\tSTAR WARS™: Rebel Assault I + II\n"
                    ]
                }
            ],
            "metadata": {}
        },
        {
            "cell_type": "code",
            "execution_count": 10,
            "source": [
                "recommend_single(\"LEGO® Batman™: The Videogame\")"
            ],
            "outputs": [
                {
                    "output_type": "stream",
                    "name": "stdout",
                    "text": [
                        "https://store.steampowered.com/app/21000 \tLEGO® Batman™: The Videogame\n",
                        "https://store.steampowered.com/app/208650\tBatman™: Arkham Knight\n",
                        "https://store.steampowered.com/app/209000\tBatman™: Arkham Origins\n",
                        "https://store.steampowered.com/app/24200 \tDC Universe™ Online\n",
                        "https://store.steampowered.com/app/200260\tBatman: Arkham City - Game of the Year Edition\n",
                        "https://store.steampowered.com/app/213330\tLEGO® Batman™ 2: DC Super Heroes\n",
                        "https://store.steampowered.com/app/313690\tLEGO® Batman™ 3: Beyond Gotham\n",
                        "https://store.steampowered.com/app/206210\tGotham City Impostors Free to Play\n",
                        "https://store.steampowered.com/app/35140 \tBatman: Arkham Asylum Game of the Year Edition\n",
                        "https://store.steampowered.com/app/502820\tBatman™: Arkham VR\n"
                    ]
                }
            ],
            "metadata": {}
        },
        {
            "cell_type": "code",
            "execution_count": 11,
            "source": [
                "cache = {}\r\n",
                "\r\n",
                "\r\n",
                "def recommend(query_games):\r\n",
                "    scores = np.zeros(len(corpus))\r\n",
                "    for query_game in query_games:\r\n",
                "        games = dataset[dataset[\"name\"] == query_game]\r\n",
                "        if len(games) == 0:\r\n",
                "            raise ValueError(f\"Unknown game name `{query_game}`\")\r\n",
                "        game_id = games[\"name\"].iloc[0]\r\n",
                "        if game_id not in cache:\r\n",
                "            query = games[\"detailed_description\"].iloc[0]\r\n",
                "            game_scores = bm25.get_scores(tokenize(query))\r\n",
                "            cache[game_id] = game_scores\r\n",
                "        else:\r\n",
                "            game_scores = cache[game_id]\r\n",
                "        scores += game_scores\r\n",
                "    top_n = np.argsort(scores)[::-1][3:]\r\n",
                "    games = []\r\n",
                "    for i in top_n:\r\n",
                "        games.append(names[i])\r\n",
                "    return games\r\n"
            ],
            "outputs": [],
            "metadata": {}
        },
        {
            "cell_type": "code",
            "execution_count": 12,
            "source": [
                "recommend([\"PLAYERUNKNOWN'S BATTLEGROUNDS\", \"Counter-Strike\"])[:10]\r\n"
            ],
            "outputs": [
                {
                    "output_type": "execute_result",
                    "data": {
                        "text/plain": [
                            "['Mini Battlegrounds',\n",
                            " 'Pixel Royale',\n",
                            " 'Battle Royale: Survivors 究极求生:大逃杀',\n",
                            " 'War.io : Zombie Battle Royale',\n",
                            " 'War.io : Survival Battle Royale',\n",
                            " 'Z1 Battle Royale',\n",
                            " \"BATTLE PIXEL'S SURVIVAL GROUND\",\n",
                            " 'Burndown',\n",
                            " 'Survival Games',\n",
                            " 'Cuisine Royale']"
                        ]
                    },
                    "metadata": {},
                    "execution_count": 12
                }
            ],
            "metadata": {}
        }
    ],
    "metadata": {
        "interpreter": {
            "hash": "f27e86c7f01512a68f7c638cee814b737cdbe548e7e4be172548e027447c9d39"
        },
        "kernelspec": {
            "name": "python3",
            "display_name": "Python 3.9.5 64-bit ('ir': conda)"
        },
        "language_info": {
            "codemirror_mode": {
                "name": "ipython",
                "version": 3
            },
            "file_extension": ".py",
            "mimetype": "text/x-python",
            "name": "python",
            "nbconvert_exporter": "python",
            "pygments_lexer": "ipython3",
            "version": "3.9.5"
        },
        "orig_nbformat": 4
    },
    "nbformat": 4,
    "nbformat_minor": 2
}