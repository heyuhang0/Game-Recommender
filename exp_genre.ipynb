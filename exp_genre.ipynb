{
    "cells": [
        {
            "cell_type": "code",
            "execution_count": 1,
            "source": [
                "from collections import defaultdict\r\n",
                "import pandas"
            ],
            "outputs": [],
            "metadata": {}
        },
        {
            "cell_type": "code",
            "execution_count": 2,
            "source": [
                "df = pandas.read_csv('./data/steam_games.csv', usecols=['name', 'recent_reviews', 'all_reviews', 'genre', 'popular_tags'])\r\n",
                "\r\n",
                "\r\n",
                "def get_genre(games):\r\n",
                "    # Input = list of 3 games\r\n",
                "    # We have to iterate over this list, and for each game,\r\n",
                "    # find it's genre and place it in the genre_count\r\n",
                "    genre_count = defaultdict(int)\r\n",
                "    for game in games:\r\n",
                "        game_row = df.loc[df[\"name\"] == game]\r\n",
                "        genre = game_row[\"genre\"].to_string(index=False)\r\n",
                "        try:\r\n",
                "            genre_list = genre.split(\",\")\r\n",
                "            for genre in genre_list:\r\n",
                "                genre_count[genre] += 1\r\n",
                "        except Exception:\r\n",
                "            genre_count[genre] += 1\r\n",
                "    # now return max\r\n",
                "    max_genre = max(genre_count.values())\r\n",
                "    for genre in genre_count:\r\n",
                "        if genre_count[genre] == max_genre:\r\n",
                "            return genre\r\n",
                "    return -1  # Error"
            ],
            "outputs": [],
            "metadata": {}
        },
        {
            "cell_type": "code",
            "execution_count": 3,
            "source": [
                "# This function receives a genre as input and returns an ordered list of the games\r\n",
                "# under this genre, ordered by their all_reviews.\r\n",
                "def get_genre_ordered_list(genre):\r\n",
                "    # Each element in this ordred list is a tuple in the form of: (game_name, overall_reviews)\r\n",
                "    ordered_list = []\r\n",
                "    games = df.loc[df[\"genre\"] == genre]\r\n",
                "    for index, row in games.iterrows():\r\n",
                "        try:\r\n",
                "            game_name, score = row[\"name\"], int(row[\"all_reviews\"].split(\"%\")[0][-2:])\r\n",
                "            ordered_list.append((game_name, score))\r\n",
                "        except Exception:\r\n",
                "            # This means there are no reviews or not enough reviews to have a score,\r\n",
                "            # hence we pass this\r\n",
                "            pass\r\n",
                "    ordered_list.sort(key=lambda x: x[1])  # Sort by the overall score\r\n",
                "    return ordered_list"
            ],
            "outputs": [],
            "metadata": {}
        },
        {
            "cell_type": "code",
            "execution_count": 6,
            "source": [
                "# The recommend function accepts 3 games of choice from the players and will\r\n",
                "# return a game based on the genres of these 3 games.\r\n",
                "# The curated list should be ordered by score, after which the top scoring game\r\n",
                "# in this curated list (based on genre) will be returned as the result,\r\n",
                "def recommend(interests, n=25):\r\n",
                "    # 1st task: parse the 3 games from interests input and get the core genre.\r\n",
                "    genre_of_interest = get_genre(interests)\r\n",
                "    if genre_of_interest == -1:\r\n",
                "        raise ValueError(\"User's list is invalid\")\r\n",
                "    print(\"User's primary genre of interest is:\", genre_of_interest)\r\n",
                "    # 2nd task: parse the CSV for a game from this genre, and return an ordered\r\n",
                "    # list, ordered by overall_score.\r\n",
                "    recommendations = get_genre_ordered_list(genre_of_interest)\r\n",
                "    # 3rd task: return the top of this ordered list.\r\n",
                "    return [name for name, _ in recommendations][:n]"
            ],
            "outputs": [],
            "metadata": {}
        },
        {
            "cell_type": "code",
            "execution_count": 7,
            "source": [
                "recommend([\"Grand Theft Auto V\", \"Sid Meier’s Civilization® VI\", 'LEGO® Batman™: The Videogame'])"
            ],
            "outputs": [
                {
                    "output_type": "stream",
                    "name": "stdout",
                    "text": [
                        "User's primary genre of interest is: Action\n"
                    ]
                },
                {
                    "output_type": "execute_result",
                    "data": {
                        "text/plain": [
                            "['Blaster Master Zero',\n",
                            " 'Minotaur Arcade Volume 1',\n",
                            " 'GUILTY GEAR',\n",
                            " 'Shadow Uprising',\n",
                            " 'MadSpace: To Hell and Beyond',\n",
                            " 'Seven Bullets Zombie Apocalypse',\n",
                            " 'SENRAN KAGURA ESTIVAL VERSUS - Ikki Tōsen',\n",
                            " '孙悟空大战机器金刚 / Sun Wukong VS Robot',\n",
                            " 'Monster Hunter: World - Gesture: Feverish Dance',\n",
                            " 'Fate/EXTELLA LINK - Beach Crisis',\n",
                            " \"Anubis' Challenge\",\n",
                            " 'Hatsune Miku VR - 5 songs pack 1',\n",
                            " 'Devil May Cry 5 - Cavaliere R',\n",
                            " 'Groove Coaster - B.B.K.K.B.K.K.',\n",
                            " 'Rapid Fire',\n",
                            " 'Monster Hunter: World - Sticker Set: Celestial Pursuit Girls',\n",
                            " 'Dungreed - Soundtrack',\n",
                            " 'Painkiller Hell & Damnation: Satan Claus DLC',\n",
                            " 'Call of Duty®: Modern Warfare® 3 Collection 2',\n",
                            " 'Call of Duty®: Ghosts - Weapon - The Ripper',\n",
                            " \"LEGO® MARVEL's Avengers - The Avengers Adventurer Character Pack\",\n",
                            " 'Unishroom',\n",
                            " 'Mushihimesama V1.5',\n",
                            " 'Unruly Ghouls',\n",
                            " \"Valentine's Day Set\"]"
                        ]
                    },
                    "metadata": {},
                    "execution_count": 7
                }
            ],
            "metadata": {}
        },
        {
            "cell_type": "code",
            "execution_count": null,
            "source": [],
            "outputs": [],
            "metadata": {}
        }
    ],
    "metadata": {
        "orig_nbformat": 4,
        "language_info": {
            "name": "python",
            "version": "3.7.4",
            "mimetype": "text/x-python",
            "codemirror_mode": {
                "name": "ipython",
                "version": 3
            },
            "pygments_lexer": "ipython3",
            "nbconvert_exporter": "python",
            "file_extension": ".py"
        },
        "kernelspec": {
            "name": "python3",
            "display_name": "Python 3.7.4 64-bit ('py37': conda)"
        },
        "interpreter": {
            "hash": "7c432cb7c66beab2e2ee88d6148390fe84b5d63fe5dbf1a000d2ed6411e2a33b"
        }
    },
    "nbformat": 4,
    "nbformat_minor": 2
}