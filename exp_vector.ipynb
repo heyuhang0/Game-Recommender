{
 "cells": [
  {
   "cell_type": "code",
   "execution_count": 1,
   "source": [
    "#Import necessary libraries\r\n",
    "import pandas as pd \r\n",
    "from sklearn.metrics.pairwise import cosine_similarity\r\n",
    "from sklearn.feature_extraction.text import CountVectorizer"
   ],
   "outputs": [],
   "metadata": {}
  },
  {
   "cell_type": "code",
   "execution_count": 2,
   "source": [
    "#Load Data\r\n",
    "steam_df = pd.read_csv('./data/steam-store-games/steam.csv')\r\n",
    "#rename column from appid to steam_appid for joining and consistency with the other data sets\r\n",
    "steam_df = steam_df.rename(columns={'appid': 'steam_appid'})\r\n",
    "steam_df.head(2)"
   ],
   "outputs": [
    {
     "output_type": "execute_result",
     "data": {
      "text/plain": [
       "   steam_appid                   name release_date  english developer  \\\n",
       "0           10         Counter-Strike   2000-11-01        1     Valve   \n",
       "1           20  Team Fortress Classic   1999-04-01        1     Valve   \n",
       "\n",
       "  publisher          platforms  required_age  \\\n",
       "0     Valve  windows;mac;linux             0   \n",
       "1     Valve  windows;mac;linux             0   \n",
       "\n",
       "                                          categories  genres  \\\n",
       "0  Multi-player;Online Multi-Player;Local Multi-P...  Action   \n",
       "1  Multi-player;Online Multi-Player;Local Multi-P...  Action   \n",
       "\n",
       "            steamspy_tags  achievements  positive_ratings  negative_ratings  \\\n",
       "0  Action;FPS;Multiplayer             0            124534              3339   \n",
       "1  Action;FPS;Multiplayer             0              3318               633   \n",
       "\n",
       "   average_playtime  median_playtime             owners  price  \n",
       "0             17612              317  10000000-20000000   7.19  \n",
       "1               277               62   5000000-10000000   3.99  "
      ],
      "text/html": [
       "<div>\n",
       "<style scoped>\n",
       "    .dataframe tbody tr th:only-of-type {\n",
       "        vertical-align: middle;\n",
       "    }\n",
       "\n",
       "    .dataframe tbody tr th {\n",
       "        vertical-align: top;\n",
       "    }\n",
       "\n",
       "    .dataframe thead th {\n",
       "        text-align: right;\n",
       "    }\n",
       "</style>\n",
       "<table border=\"1\" class=\"dataframe\">\n",
       "  <thead>\n",
       "    <tr style=\"text-align: right;\">\n",
       "      <th></th>\n",
       "      <th>steam_appid</th>\n",
       "      <th>name</th>\n",
       "      <th>release_date</th>\n",
       "      <th>english</th>\n",
       "      <th>developer</th>\n",
       "      <th>publisher</th>\n",
       "      <th>platforms</th>\n",
       "      <th>required_age</th>\n",
       "      <th>categories</th>\n",
       "      <th>genres</th>\n",
       "      <th>steamspy_tags</th>\n",
       "      <th>achievements</th>\n",
       "      <th>positive_ratings</th>\n",
       "      <th>negative_ratings</th>\n",
       "      <th>average_playtime</th>\n",
       "      <th>median_playtime</th>\n",
       "      <th>owners</th>\n",
       "      <th>price</th>\n",
       "    </tr>\n",
       "  </thead>\n",
       "  <tbody>\n",
       "    <tr>\n",
       "      <th>0</th>\n",
       "      <td>10</td>\n",
       "      <td>Counter-Strike</td>\n",
       "      <td>2000-11-01</td>\n",
       "      <td>1</td>\n",
       "      <td>Valve</td>\n",
       "      <td>Valve</td>\n",
       "      <td>windows;mac;linux</td>\n",
       "      <td>0</td>\n",
       "      <td>Multi-player;Online Multi-Player;Local Multi-P...</td>\n",
       "      <td>Action</td>\n",
       "      <td>Action;FPS;Multiplayer</td>\n",
       "      <td>0</td>\n",
       "      <td>124534</td>\n",
       "      <td>3339</td>\n",
       "      <td>17612</td>\n",
       "      <td>317</td>\n",
       "      <td>10000000-20000000</td>\n",
       "      <td>7.19</td>\n",
       "    </tr>\n",
       "    <tr>\n",
       "      <th>1</th>\n",
       "      <td>20</td>\n",
       "      <td>Team Fortress Classic</td>\n",
       "      <td>1999-04-01</td>\n",
       "      <td>1</td>\n",
       "      <td>Valve</td>\n",
       "      <td>Valve</td>\n",
       "      <td>windows;mac;linux</td>\n",
       "      <td>0</td>\n",
       "      <td>Multi-player;Online Multi-Player;Local Multi-P...</td>\n",
       "      <td>Action</td>\n",
       "      <td>Action;FPS;Multiplayer</td>\n",
       "      <td>0</td>\n",
       "      <td>3318</td>\n",
       "      <td>633</td>\n",
       "      <td>277</td>\n",
       "      <td>62</td>\n",
       "      <td>5000000-10000000</td>\n",
       "      <td>3.99</td>\n",
       "    </tr>\n",
       "  </tbody>\n",
       "</table>\n",
       "</div>"
      ]
     },
     "metadata": {},
     "execution_count": 2
    }
   ],
   "metadata": {}
  },
  {
   "cell_type": "code",
   "execution_count": 3,
   "source": [
    "#Load another dataset\r\n",
    "steam_description_df = pd.read_csv('./data/steam-store-games/steam_description_data.csv')\r\n",
    "steam_description_df.head()"
   ],
   "outputs": [
    {
     "output_type": "execute_result",
     "data": {
      "text/plain": [
       "   steam_appid                               detailed_description  \\\n",
       "0           10  Play the world's number 1 online action game. ...   \n",
       "1           20  One of the most popular online action games of...   \n",
       "2           30  Enlist in an intense brand of Axis vs. Allied ...   \n",
       "3           40  Enjoy fast-paced multiplayer gaming with Death...   \n",
       "4           50  Return to the Black Mesa Research Facility as ...   \n",
       "\n",
       "                                      about_the_game  \\\n",
       "0  Play the world's number 1 online action game. ...   \n",
       "1  One of the most popular online action games of...   \n",
       "2  Enlist in an intense brand of Axis vs. Allied ...   \n",
       "3  Enjoy fast-paced multiplayer gaming with Death...   \n",
       "4  Return to the Black Mesa Research Facility as ...   \n",
       "\n",
       "                                   short_description  \n",
       "0  Play the world's number 1 online action game. ...  \n",
       "1  One of the most popular online action games of...  \n",
       "2  Enlist in an intense brand of Axis vs. Allied ...  \n",
       "3  Enjoy fast-paced multiplayer gaming with Death...  \n",
       "4  Return to the Black Mesa Research Facility as ...  "
      ],
      "text/html": [
       "<div>\n",
       "<style scoped>\n",
       "    .dataframe tbody tr th:only-of-type {\n",
       "        vertical-align: middle;\n",
       "    }\n",
       "\n",
       "    .dataframe tbody tr th {\n",
       "        vertical-align: top;\n",
       "    }\n",
       "\n",
       "    .dataframe thead th {\n",
       "        text-align: right;\n",
       "    }\n",
       "</style>\n",
       "<table border=\"1\" class=\"dataframe\">\n",
       "  <thead>\n",
       "    <tr style=\"text-align: right;\">\n",
       "      <th></th>\n",
       "      <th>steam_appid</th>\n",
       "      <th>detailed_description</th>\n",
       "      <th>about_the_game</th>\n",
       "      <th>short_description</th>\n",
       "    </tr>\n",
       "  </thead>\n",
       "  <tbody>\n",
       "    <tr>\n",
       "      <th>0</th>\n",
       "      <td>10</td>\n",
       "      <td>Play the world's number 1 online action game. ...</td>\n",
       "      <td>Play the world's number 1 online action game. ...</td>\n",
       "      <td>Play the world's number 1 online action game. ...</td>\n",
       "    </tr>\n",
       "    <tr>\n",
       "      <th>1</th>\n",
       "      <td>20</td>\n",
       "      <td>One of the most popular online action games of...</td>\n",
       "      <td>One of the most popular online action games of...</td>\n",
       "      <td>One of the most popular online action games of...</td>\n",
       "    </tr>\n",
       "    <tr>\n",
       "      <th>2</th>\n",
       "      <td>30</td>\n",
       "      <td>Enlist in an intense brand of Axis vs. Allied ...</td>\n",
       "      <td>Enlist in an intense brand of Axis vs. Allied ...</td>\n",
       "      <td>Enlist in an intense brand of Axis vs. Allied ...</td>\n",
       "    </tr>\n",
       "    <tr>\n",
       "      <th>3</th>\n",
       "      <td>40</td>\n",
       "      <td>Enjoy fast-paced multiplayer gaming with Death...</td>\n",
       "      <td>Enjoy fast-paced multiplayer gaming with Death...</td>\n",
       "      <td>Enjoy fast-paced multiplayer gaming with Death...</td>\n",
       "    </tr>\n",
       "    <tr>\n",
       "      <th>4</th>\n",
       "      <td>50</td>\n",
       "      <td>Return to the Black Mesa Research Facility as ...</td>\n",
       "      <td>Return to the Black Mesa Research Facility as ...</td>\n",
       "      <td>Return to the Black Mesa Research Facility as ...</td>\n",
       "    </tr>\n",
       "  </tbody>\n",
       "</table>\n",
       "</div>"
      ]
     },
     "metadata": {},
     "execution_count": 3
    }
   ],
   "metadata": {}
  },
  {
   "cell_type": "code",
   "execution_count": 4,
   "source": [
    "#Join relevant & useful datasets together on steam_appid column\r\n",
    "#steam_df, steam_description_data_df, steam_requirements_df(not sure whether to include), steam_spytag_df\r\n",
    "steam_and_description_df = steam_df.merge(steam_description_df, on='steam_appid')\r\n",
    "#add game id column\r\n",
    "steam_and_description_df['game_id']=steam_and_description_df.index\r\n",
    "steam_and_description_df.head()"
   ],
   "outputs": [
    {
     "output_type": "execute_result",
     "data": {
      "text/plain": [
       "   steam_appid                       name release_date  english  \\\n",
       "0           10             Counter-Strike   2000-11-01        1   \n",
       "1           20      Team Fortress Classic   1999-04-01        1   \n",
       "2           30              Day of Defeat   2003-05-01        1   \n",
       "3           40         Deathmatch Classic   2001-06-01        1   \n",
       "4           50  Half-Life: Opposing Force   1999-11-01        1   \n",
       "\n",
       "          developer publisher          platforms  required_age  \\\n",
       "0             Valve     Valve  windows;mac;linux             0   \n",
       "1             Valve     Valve  windows;mac;linux             0   \n",
       "2             Valve     Valve  windows;mac;linux             0   \n",
       "3             Valve     Valve  windows;mac;linux             0   \n",
       "4  Gearbox Software     Valve  windows;mac;linux             0   \n",
       "\n",
       "                                          categories  genres  ...  \\\n",
       "0  Multi-player;Online Multi-Player;Local Multi-P...  Action  ...   \n",
       "1  Multi-player;Online Multi-Player;Local Multi-P...  Action  ...   \n",
       "2              Multi-player;Valve Anti-Cheat enabled  Action  ...   \n",
       "3  Multi-player;Online Multi-Player;Local Multi-P...  Action  ...   \n",
       "4  Single-player;Multi-player;Valve Anti-Cheat en...  Action  ...   \n",
       "\n",
       "  positive_ratings  negative_ratings  average_playtime  median_playtime  \\\n",
       "0           124534              3339             17612              317   \n",
       "1             3318               633               277               62   \n",
       "2             3416               398               187               34   \n",
       "3             1273               267               258              184   \n",
       "4             5250               288               624              415   \n",
       "\n",
       "              owners  price  \\\n",
       "0  10000000-20000000   7.19   \n",
       "1   5000000-10000000   3.99   \n",
       "2   5000000-10000000   3.99   \n",
       "3   5000000-10000000   3.99   \n",
       "4   5000000-10000000   3.99   \n",
       "\n",
       "                                detailed_description  \\\n",
       "0  Play the world's number 1 online action game. ...   \n",
       "1  One of the most popular online action games of...   \n",
       "2  Enlist in an intense brand of Axis vs. Allied ...   \n",
       "3  Enjoy fast-paced multiplayer gaming with Death...   \n",
       "4  Return to the Black Mesa Research Facility as ...   \n",
       "\n",
       "                                      about_the_game  \\\n",
       "0  Play the world's number 1 online action game. ...   \n",
       "1  One of the most popular online action games of...   \n",
       "2  Enlist in an intense brand of Axis vs. Allied ...   \n",
       "3  Enjoy fast-paced multiplayer gaming with Death...   \n",
       "4  Return to the Black Mesa Research Facility as ...   \n",
       "\n",
       "                                   short_description game_id  \n",
       "0  Play the world's number 1 online action game. ...       0  \n",
       "1  One of the most popular online action games of...       1  \n",
       "2  Enlist in an intense brand of Axis vs. Allied ...       2  \n",
       "3  Enjoy fast-paced multiplayer gaming with Death...       3  \n",
       "4  Return to the Black Mesa Research Facility as ...       4  \n",
       "\n",
       "[5 rows x 22 columns]"
      ],
      "text/html": [
       "<div>\n",
       "<style scoped>\n",
       "    .dataframe tbody tr th:only-of-type {\n",
       "        vertical-align: middle;\n",
       "    }\n",
       "\n",
       "    .dataframe tbody tr th {\n",
       "        vertical-align: top;\n",
       "    }\n",
       "\n",
       "    .dataframe thead th {\n",
       "        text-align: right;\n",
       "    }\n",
       "</style>\n",
       "<table border=\"1\" class=\"dataframe\">\n",
       "  <thead>\n",
       "    <tr style=\"text-align: right;\">\n",
       "      <th></th>\n",
       "      <th>steam_appid</th>\n",
       "      <th>name</th>\n",
       "      <th>release_date</th>\n",
       "      <th>english</th>\n",
       "      <th>developer</th>\n",
       "      <th>publisher</th>\n",
       "      <th>platforms</th>\n",
       "      <th>required_age</th>\n",
       "      <th>categories</th>\n",
       "      <th>genres</th>\n",
       "      <th>...</th>\n",
       "      <th>positive_ratings</th>\n",
       "      <th>negative_ratings</th>\n",
       "      <th>average_playtime</th>\n",
       "      <th>median_playtime</th>\n",
       "      <th>owners</th>\n",
       "      <th>price</th>\n",
       "      <th>detailed_description</th>\n",
       "      <th>about_the_game</th>\n",
       "      <th>short_description</th>\n",
       "      <th>game_id</th>\n",
       "    </tr>\n",
       "  </thead>\n",
       "  <tbody>\n",
       "    <tr>\n",
       "      <th>0</th>\n",
       "      <td>10</td>\n",
       "      <td>Counter-Strike</td>\n",
       "      <td>2000-11-01</td>\n",
       "      <td>1</td>\n",
       "      <td>Valve</td>\n",
       "      <td>Valve</td>\n",
       "      <td>windows;mac;linux</td>\n",
       "      <td>0</td>\n",
       "      <td>Multi-player;Online Multi-Player;Local Multi-P...</td>\n",
       "      <td>Action</td>\n",
       "      <td>...</td>\n",
       "      <td>124534</td>\n",
       "      <td>3339</td>\n",
       "      <td>17612</td>\n",
       "      <td>317</td>\n",
       "      <td>10000000-20000000</td>\n",
       "      <td>7.19</td>\n",
       "      <td>Play the world's number 1 online action game. ...</td>\n",
       "      <td>Play the world's number 1 online action game. ...</td>\n",
       "      <td>Play the world's number 1 online action game. ...</td>\n",
       "      <td>0</td>\n",
       "    </tr>\n",
       "    <tr>\n",
       "      <th>1</th>\n",
       "      <td>20</td>\n",
       "      <td>Team Fortress Classic</td>\n",
       "      <td>1999-04-01</td>\n",
       "      <td>1</td>\n",
       "      <td>Valve</td>\n",
       "      <td>Valve</td>\n",
       "      <td>windows;mac;linux</td>\n",
       "      <td>0</td>\n",
       "      <td>Multi-player;Online Multi-Player;Local Multi-P...</td>\n",
       "      <td>Action</td>\n",
       "      <td>...</td>\n",
       "      <td>3318</td>\n",
       "      <td>633</td>\n",
       "      <td>277</td>\n",
       "      <td>62</td>\n",
       "      <td>5000000-10000000</td>\n",
       "      <td>3.99</td>\n",
       "      <td>One of the most popular online action games of...</td>\n",
       "      <td>One of the most popular online action games of...</td>\n",
       "      <td>One of the most popular online action games of...</td>\n",
       "      <td>1</td>\n",
       "    </tr>\n",
       "    <tr>\n",
       "      <th>2</th>\n",
       "      <td>30</td>\n",
       "      <td>Day of Defeat</td>\n",
       "      <td>2003-05-01</td>\n",
       "      <td>1</td>\n",
       "      <td>Valve</td>\n",
       "      <td>Valve</td>\n",
       "      <td>windows;mac;linux</td>\n",
       "      <td>0</td>\n",
       "      <td>Multi-player;Valve Anti-Cheat enabled</td>\n",
       "      <td>Action</td>\n",
       "      <td>...</td>\n",
       "      <td>3416</td>\n",
       "      <td>398</td>\n",
       "      <td>187</td>\n",
       "      <td>34</td>\n",
       "      <td>5000000-10000000</td>\n",
       "      <td>3.99</td>\n",
       "      <td>Enlist in an intense brand of Axis vs. Allied ...</td>\n",
       "      <td>Enlist in an intense brand of Axis vs. Allied ...</td>\n",
       "      <td>Enlist in an intense brand of Axis vs. Allied ...</td>\n",
       "      <td>2</td>\n",
       "    </tr>\n",
       "    <tr>\n",
       "      <th>3</th>\n",
       "      <td>40</td>\n",
       "      <td>Deathmatch Classic</td>\n",
       "      <td>2001-06-01</td>\n",
       "      <td>1</td>\n",
       "      <td>Valve</td>\n",
       "      <td>Valve</td>\n",
       "      <td>windows;mac;linux</td>\n",
       "      <td>0</td>\n",
       "      <td>Multi-player;Online Multi-Player;Local Multi-P...</td>\n",
       "      <td>Action</td>\n",
       "      <td>...</td>\n",
       "      <td>1273</td>\n",
       "      <td>267</td>\n",
       "      <td>258</td>\n",
       "      <td>184</td>\n",
       "      <td>5000000-10000000</td>\n",
       "      <td>3.99</td>\n",
       "      <td>Enjoy fast-paced multiplayer gaming with Death...</td>\n",
       "      <td>Enjoy fast-paced multiplayer gaming with Death...</td>\n",
       "      <td>Enjoy fast-paced multiplayer gaming with Death...</td>\n",
       "      <td>3</td>\n",
       "    </tr>\n",
       "    <tr>\n",
       "      <th>4</th>\n",
       "      <td>50</td>\n",
       "      <td>Half-Life: Opposing Force</td>\n",
       "      <td>1999-11-01</td>\n",
       "      <td>1</td>\n",
       "      <td>Gearbox Software</td>\n",
       "      <td>Valve</td>\n",
       "      <td>windows;mac;linux</td>\n",
       "      <td>0</td>\n",
       "      <td>Single-player;Multi-player;Valve Anti-Cheat en...</td>\n",
       "      <td>Action</td>\n",
       "      <td>...</td>\n",
       "      <td>5250</td>\n",
       "      <td>288</td>\n",
       "      <td>624</td>\n",
       "      <td>415</td>\n",
       "      <td>5000000-10000000</td>\n",
       "      <td>3.99</td>\n",
       "      <td>Return to the Black Mesa Research Facility as ...</td>\n",
       "      <td>Return to the Black Mesa Research Facility as ...</td>\n",
       "      <td>Return to the Black Mesa Research Facility as ...</td>\n",
       "      <td>4</td>\n",
       "    </tr>\n",
       "  </tbody>\n",
       "</table>\n",
       "<p>5 rows × 22 columns</p>\n",
       "</div>"
      ]
     },
     "metadata": {},
     "execution_count": 4
    }
   ],
   "metadata": {}
  },
  {
   "cell_type": "code",
   "execution_count": 5,
   "source": [
    "#create list of important columns from steam_and_description_df, maybe can focus on 1-2 columns\r\n",
    "useful_columns = ['name', 'developer', 'publisher', 'categories', 'genres', 'steamspy_tags', 'detailed_description', 'about_the_game', 'short_description']\r\n",
    "steam_and_description_df[useful_columns].head(2)"
   ],
   "outputs": [
    {
     "output_type": "execute_result",
     "data": {
      "text/plain": [
       "                    name developer publisher  \\\n",
       "0         Counter-Strike     Valve     Valve   \n",
       "1  Team Fortress Classic     Valve     Valve   \n",
       "\n",
       "                                          categories  genres  \\\n",
       "0  Multi-player;Online Multi-Player;Local Multi-P...  Action   \n",
       "1  Multi-player;Online Multi-Player;Local Multi-P...  Action   \n",
       "\n",
       "            steamspy_tags                               detailed_description  \\\n",
       "0  Action;FPS;Multiplayer  Play the world's number 1 online action game. ...   \n",
       "1  Action;FPS;Multiplayer  One of the most popular online action games of...   \n",
       "\n",
       "                                      about_the_game  \\\n",
       "0  Play the world's number 1 online action game. ...   \n",
       "1  One of the most popular online action games of...   \n",
       "\n",
       "                                   short_description  \n",
       "0  Play the world's number 1 online action game. ...  \n",
       "1  One of the most popular online action games of...  "
      ],
      "text/html": [
       "<div>\n",
       "<style scoped>\n",
       "    .dataframe tbody tr th:only-of-type {\n",
       "        vertical-align: middle;\n",
       "    }\n",
       "\n",
       "    .dataframe tbody tr th {\n",
       "        vertical-align: top;\n",
       "    }\n",
       "\n",
       "    .dataframe thead th {\n",
       "        text-align: right;\n",
       "    }\n",
       "</style>\n",
       "<table border=\"1\" class=\"dataframe\">\n",
       "  <thead>\n",
       "    <tr style=\"text-align: right;\">\n",
       "      <th></th>\n",
       "      <th>name</th>\n",
       "      <th>developer</th>\n",
       "      <th>publisher</th>\n",
       "      <th>categories</th>\n",
       "      <th>genres</th>\n",
       "      <th>steamspy_tags</th>\n",
       "      <th>detailed_description</th>\n",
       "      <th>about_the_game</th>\n",
       "      <th>short_description</th>\n",
       "    </tr>\n",
       "  </thead>\n",
       "  <tbody>\n",
       "    <tr>\n",
       "      <th>0</th>\n",
       "      <td>Counter-Strike</td>\n",
       "      <td>Valve</td>\n",
       "      <td>Valve</td>\n",
       "      <td>Multi-player;Online Multi-Player;Local Multi-P...</td>\n",
       "      <td>Action</td>\n",
       "      <td>Action;FPS;Multiplayer</td>\n",
       "      <td>Play the world's number 1 online action game. ...</td>\n",
       "      <td>Play the world's number 1 online action game. ...</td>\n",
       "      <td>Play the world's number 1 online action game. ...</td>\n",
       "    </tr>\n",
       "    <tr>\n",
       "      <th>1</th>\n",
       "      <td>Team Fortress Classic</td>\n",
       "      <td>Valve</td>\n",
       "      <td>Valve</td>\n",
       "      <td>Multi-player;Online Multi-Player;Local Multi-P...</td>\n",
       "      <td>Action</td>\n",
       "      <td>Action;FPS;Multiplayer</td>\n",
       "      <td>One of the most popular online action games of...</td>\n",
       "      <td>One of the most popular online action games of...</td>\n",
       "      <td>One of the most popular online action games of...</td>\n",
       "    </tr>\n",
       "  </tbody>\n",
       "</table>\n",
       "</div>"
      ]
     },
     "metadata": {},
     "execution_count": 5
    }
   ],
   "metadata": {}
  },
  {
   "cell_type": "code",
   "execution_count": 6,
   "source": [
    "#check for missing values and if it returns false means theres no missing values\r\n",
    "steam_and_description_df[useful_columns].isnull().values.any()"
   ],
   "outputs": [
    {
     "output_type": "execute_result",
     "data": {
      "text/plain": [
       "False"
      ]
     },
     "metadata": {},
     "execution_count": 6
    }
   ],
   "metadata": {}
  },
  {
   "cell_type": "code",
   "execution_count": 7,
   "source": [
    "#function to get important features \r\n",
    "def get_important_features(data):\r\n",
    "  important_features=[]\r\n",
    "  for i in range(0, data.shape[0]):\r\n",
    "    important_features.append(data['name'][i]+' '+data['developer'][i]+' '+data['publisher'][i]+' '+data['categories'][i]+' '+data['genres'][i]+data['steamspy_tags'][i]+' '+data['detailed_description'][i]+' '+data['about_the_game'][i]+' '+data['short_description'][i])\r\n",
    "\r\n",
    "  return important_features"
   ],
   "outputs": [],
   "metadata": {}
  },
  {
   "cell_type": "code",
   "execution_count": 8,
   "source": [
    "#create a column called important_features in the dataframe to hold the combined strings\r\n",
    "steam_and_description_df['important_features'] = get_important_features(steam_and_description_df)\r\n",
    "#show the final dataset with the important features column\r\n",
    "steam_and_description_df.head(2)"
   ],
   "outputs": [
    {
     "output_type": "execute_result",
     "data": {
      "text/plain": [
       "   steam_appid                   name release_date  english developer  \\\n",
       "0           10         Counter-Strike   2000-11-01        1     Valve   \n",
       "1           20  Team Fortress Classic   1999-04-01        1     Valve   \n",
       "\n",
       "  publisher          platforms  required_age  \\\n",
       "0     Valve  windows;mac;linux             0   \n",
       "1     Valve  windows;mac;linux             0   \n",
       "\n",
       "                                          categories  genres  ...  \\\n",
       "0  Multi-player;Online Multi-Player;Local Multi-P...  Action  ...   \n",
       "1  Multi-player;Online Multi-Player;Local Multi-P...  Action  ...   \n",
       "\n",
       "  negative_ratings  average_playtime  median_playtime             owners  \\\n",
       "0             3339             17612              317  10000000-20000000   \n",
       "1              633               277               62   5000000-10000000   \n",
       "\n",
       "   price                               detailed_description  \\\n",
       "0   7.19  Play the world's number 1 online action game. ...   \n",
       "1   3.99  One of the most popular online action games of...   \n",
       "\n",
       "                                      about_the_game  \\\n",
       "0  Play the world's number 1 online action game. ...   \n",
       "1  One of the most popular online action games of...   \n",
       "\n",
       "                                   short_description game_id  \\\n",
       "0  Play the world's number 1 online action game. ...       0   \n",
       "1  One of the most popular online action games of...       1   \n",
       "\n",
       "                                  important_features  \n",
       "0  Counter-Strike Valve Valve Multi-player;Online...  \n",
       "1  Team Fortress Classic Valve Valve Multi-player...  \n",
       "\n",
       "[2 rows x 23 columns]"
      ],
      "text/html": [
       "<div>\n",
       "<style scoped>\n",
       "    .dataframe tbody tr th:only-of-type {\n",
       "        vertical-align: middle;\n",
       "    }\n",
       "\n",
       "    .dataframe tbody tr th {\n",
       "        vertical-align: top;\n",
       "    }\n",
       "\n",
       "    .dataframe thead th {\n",
       "        text-align: right;\n",
       "    }\n",
       "</style>\n",
       "<table border=\"1\" class=\"dataframe\">\n",
       "  <thead>\n",
       "    <tr style=\"text-align: right;\">\n",
       "      <th></th>\n",
       "      <th>steam_appid</th>\n",
       "      <th>name</th>\n",
       "      <th>release_date</th>\n",
       "      <th>english</th>\n",
       "      <th>developer</th>\n",
       "      <th>publisher</th>\n",
       "      <th>platforms</th>\n",
       "      <th>required_age</th>\n",
       "      <th>categories</th>\n",
       "      <th>genres</th>\n",
       "      <th>...</th>\n",
       "      <th>negative_ratings</th>\n",
       "      <th>average_playtime</th>\n",
       "      <th>median_playtime</th>\n",
       "      <th>owners</th>\n",
       "      <th>price</th>\n",
       "      <th>detailed_description</th>\n",
       "      <th>about_the_game</th>\n",
       "      <th>short_description</th>\n",
       "      <th>game_id</th>\n",
       "      <th>important_features</th>\n",
       "    </tr>\n",
       "  </thead>\n",
       "  <tbody>\n",
       "    <tr>\n",
       "      <th>0</th>\n",
       "      <td>10</td>\n",
       "      <td>Counter-Strike</td>\n",
       "      <td>2000-11-01</td>\n",
       "      <td>1</td>\n",
       "      <td>Valve</td>\n",
       "      <td>Valve</td>\n",
       "      <td>windows;mac;linux</td>\n",
       "      <td>0</td>\n",
       "      <td>Multi-player;Online Multi-Player;Local Multi-P...</td>\n",
       "      <td>Action</td>\n",
       "      <td>...</td>\n",
       "      <td>3339</td>\n",
       "      <td>17612</td>\n",
       "      <td>317</td>\n",
       "      <td>10000000-20000000</td>\n",
       "      <td>7.19</td>\n",
       "      <td>Play the world's number 1 online action game. ...</td>\n",
       "      <td>Play the world's number 1 online action game. ...</td>\n",
       "      <td>Play the world's number 1 online action game. ...</td>\n",
       "      <td>0</td>\n",
       "      <td>Counter-Strike Valve Valve Multi-player;Online...</td>\n",
       "    </tr>\n",
       "    <tr>\n",
       "      <th>1</th>\n",
       "      <td>20</td>\n",
       "      <td>Team Fortress Classic</td>\n",
       "      <td>1999-04-01</td>\n",
       "      <td>1</td>\n",
       "      <td>Valve</td>\n",
       "      <td>Valve</td>\n",
       "      <td>windows;mac;linux</td>\n",
       "      <td>0</td>\n",
       "      <td>Multi-player;Online Multi-Player;Local Multi-P...</td>\n",
       "      <td>Action</td>\n",
       "      <td>...</td>\n",
       "      <td>633</td>\n",
       "      <td>277</td>\n",
       "      <td>62</td>\n",
       "      <td>5000000-10000000</td>\n",
       "      <td>3.99</td>\n",
       "      <td>One of the most popular online action games of...</td>\n",
       "      <td>One of the most popular online action games of...</td>\n",
       "      <td>One of the most popular online action games of...</td>\n",
       "      <td>1</td>\n",
       "      <td>Team Fortress Classic Valve Valve Multi-player...</td>\n",
       "    </tr>\n",
       "  </tbody>\n",
       "</table>\n",
       "<p>2 rows × 23 columns</p>\n",
       "</div>"
      ]
     },
     "metadata": {},
     "execution_count": 8
    }
   ],
   "metadata": {}
  },
  {
   "cell_type": "code",
   "execution_count": 9,
   "source": [
    "#convert the text to a matrix of token counts\r\n",
    "cm = CountVectorizer().fit_transform(steam_and_description_df['important_features'])"
   ],
   "outputs": [],
   "metadata": {}
  },
  {
   "cell_type": "code",
   "execution_count": 10,
   "source": [
    "#get cosine similarity matrix from cm\r\n",
    "cs = cosine_similarity(cm)\r\n",
    "print(cs)"
   ],
   "outputs": [
    {
     "output_type": "stream",
     "name": "stdout",
     "text": [
      "[[1.         0.37814341 0.25216706 ... 0.15473285 0.14597431 0.16058189]\n",
      " [0.37814341 1.         0.3890594  ... 0.24337297 0.22178511 0.25263078]\n",
      " [0.25216706 0.3890594  1.         ... 0.24532181 0.27182256 0.27269936]\n",
      " ...\n",
      " [0.15473285 0.24337297 0.24532181 ... 1.         0.53629666 0.51963466]\n",
      " [0.14597431 0.22178511 0.27182256 ... 0.53629666 1.         0.63852447]\n",
      " [0.16058189 0.25263078 0.27269936 ... 0.51963466 0.63852447 1.        ]]\n"
     ]
    }
   ],
   "metadata": {}
  },
  {
   "cell_type": "code",
   "execution_count": 11,
   "source": [
    "#find the number of rows and columns of the cosine similarity matrix\r\n",
    "cs.shape"
   ],
   "outputs": [
    {
     "output_type": "execute_result",
     "data": {
      "text/plain": [
       "(27075, 27075)"
      ]
     },
     "metadata": {},
     "execution_count": 11
    }
   ],
   "metadata": {}
  },
  {
   "cell_type": "code",
   "execution_count": 12,
   "source": [
    "#input query\r\n",
    "name = 'Counter-Strike'\r\n",
    "\r\n",
    "#Find the steam app id of the input game\r\n",
    "steam_app_id = steam_and_description_df[steam_and_description_df.name == name]['game_id'].values[0]\r\n",
    "print(steam_app_id)"
   ],
   "outputs": [
    {
     "output_type": "stream",
     "name": "stdout",
     "text": [
      "0\n"
     ]
    }
   ],
   "metadata": {}
  },
  {
   "cell_type": "code",
   "execution_count": 13,
   "source": [
    "#Create a list of enumerations for the similarity score\r\n",
    "scores = list(enumerate(cs[steam_app_id]))"
   ],
   "outputs": [],
   "metadata": {}
  },
  {
   "cell_type": "code",
   "execution_count": 14,
   "source": [
    "#sort the list\r\n",
    "sorted_scores = sorted(scores, key = lambda x:x[1], reverse = True)\r\n",
    "sorted_scores = sorted_scores[1:]"
   ],
   "outputs": [],
   "metadata": {}
  },
  {
   "cell_type": "code",
   "execution_count": 15,
   "source": [
    "#print first 10 similar games\r\n",
    "i = 0\r\n",
    "print('The 10 most recommended games to', name, 'are:\\n')\r\n",
    "for item in sorted_scores:\r\n",
    "    game_name = steam_and_description_df[steam_and_description_df.game_id == item[0]].values[0][1]\r\n",
    "    print(i+1, game_name)\r\n",
    "    i = i + 1\r\n",
    "    if i>9:\r\n",
    "        break"
   ],
   "outputs": [
    {
     "output_type": "stream",
     "name": "stdout",
     "text": [
      "The 10 most recommended games to Counter-Strike are:\n",
      "\n",
      "1 Draft Day Sports: College Basketball 2018\n",
      "2 Draft Day Sports: College Basketball 2017\n",
      "3 Football Mogul 18\n",
      "4 Baseball Mogul 2018\n",
      "5 Sphere Complex\n",
      "6 Delta Horizon\n",
      "7 BLOCKADE 3D\n",
      "8 Staxel\n",
      "9 Kingdoms Of Marazia\n",
      "10 Tales Of Glory\n"
     ]
    }
   ],
   "metadata": {}
  },
  {
   "cell_type": "code",
   "execution_count": 16,
   "source": [
    "#final game recommendation function\r\n",
    "def game_recommendation(input_query):\r\n",
    "    steam_app_id = steam_and_description_df[steam_and_description_df.name == input_query]['game_id'].values[0]\r\n",
    "    #Create a list of enumerations for the similarity score\r\n",
    "    scores = list(enumerate(cs[steam_app_id]))\r\n",
    "    print(scores[:10])\r\n",
    "    #sort the list\r\n",
    "    sorted_scores = sorted(scores, key = lambda x:x[1], reverse = True)\r\n",
    "    sorted_scores = sorted_scores[1:]\r\n",
    "    #print the first 10 similar games\r\n",
    "    i = 0\r\n",
    "    for item in sorted_scores:\r\n",
    "        game_name = steam_and_description_df[steam_and_description_df.game_id == item[0]].values[0][1]\r\n",
    "        print(i+1, game_name)\r\n",
    "        i = i + 1\r\n",
    "        if i>9:\r\n",
    "            break"
   ],
   "outputs": [],
   "metadata": {}
  },
  {
   "cell_type": "code",
   "execution_count": 17,
   "source": [
    "game_recommendation('Counter-Strike')"
   ],
   "outputs": [
    {
     "output_type": "stream",
     "name": "stdout",
     "text": [
      "[(0, 0.9999999999999999), (1, 0.3781434060156702), (2, 0.25216705940593204), (3, 0.22511530062127552), (4, 0.22227065840874616), (5, 0.36687031126222003), (6, 0.27246895362233936), (7, 0.1941855649691472), (8, 0.18760385803235793), (9, 0.22680696344507284)]\n",
      "1 Draft Day Sports: College Basketball 2018\n",
      "2 Draft Day Sports: College Basketball 2017\n",
      "3 Football Mogul 18\n",
      "4 Baseball Mogul 2018\n",
      "5 Sphere Complex\n",
      "6 Delta Horizon\n",
      "7 BLOCKADE 3D\n",
      "8 Staxel\n",
      "9 Kingdoms Of Marazia\n",
      "10 Tales Of Glory\n"
     ]
    }
   ],
   "metadata": {}
  },
  {
   "cell_type": "code",
   "execution_count": 18,
   "source": [
    "game_recommendation('Team Fortress Classic')"
   ],
   "outputs": [
    {
     "output_type": "stream",
     "name": "stdout",
     "text": [
      "[(0, 0.3781434060156702), (1, 0.9999999999999996), (2, 0.3890593979069049), (3, 0.3704044508830013), (4, 0.3831002109277553), (5, 0.3647917423452258), (6, 0.31109131539408885), (7, 0.2761220866078094), (8, 0.25992314820823675), (9, 0.34325420438330734)]\n",
      "1 Obliteracy\n",
      "2 Dead Rising 4\n",
      "3 A Fistful of Gun\n",
      "4 BLOCKADE Classic\n",
      "5 My Lands: Black Gem Hunting\n",
      "6 Assassin's Creed® Unity\n",
      "7 One Ping Only\n",
      "8 Call of Duty®: Modern Warfare® Remastered\n",
      "9 忍者村大战2\n",
      "10 Oracle: Threads of Fate\n"
     ]
    }
   ],
   "metadata": {}
  },
  {
   "cell_type": "code",
   "execution_count": 19,
   "source": [
    "game_recommendation('Half-Life 2')"
   ],
   "outputs": [
    {
     "output_type": "stream",
     "name": "stdout",
     "text": [
      "[(0, 0.22680696344507284), (1, 0.34325420438330734), (2, 0.3854087985035805), (3, 0.39692790173563663), (4, 0.6070432513304648), (5, 0.20700016775851657), (6, 0.48288356038446967), (7, 0.25990807545629047), (8, 0.41230568256635575), (9, 1.0000000000000018)]\n",
      "1 Crash Time 3\n",
      "2 Conflict of Heroes: Awakening the Bear\n",
      "3 Real Warfare 2: Northern Crusades\n",
      "4 Maelstrom: The Battle for Earth Begins\n",
      "5 Below Zero\n",
      "6 SpellForce - Platinum Edition\n",
      "7 FARHOME\n",
      "8 Momodora: Reverie Under The Moonlight\n",
      "9 汉匈决战/Han Xiongnu Wars\n",
      "10 Battle Princess Madelyn\n"
     ]
    }
   ],
   "metadata": {}
  },
  {
   "cell_type": "code",
   "execution_count": 20,
   "source": [
    "game_recommendation('Star Wars: Battlefront 2 (Classic, 2005)')"
   ],
   "outputs": [
    {
     "output_type": "stream",
     "name": "stdout",
     "text": [
      "[(0, 0.17847584807070943), (1, 0.31530697267541835), (2, 0.29912429204438706), (3, 0.29598469523734766), (4, 0.4725134973124137), (5, 0.20795607215099993), (6, 0.3289642407107981), (7, 0.2469574160411963), (8, 0.30709917586501845), (9, 0.6288277333931099)]\n",
      "1 STAR WARS™ Empire at War - Gold Pack\n",
      "2 LEGO® Star Wars™ III - The Clone Wars™\n",
      "3 LEGO® Star Wars™ - The Complete Saga\n",
      "4 Deathtrap\n",
      "5 Distant Worlds: Universe\n",
      "6 The Horus Heresy: Legions\n",
      "7 STAR WARS™ - X-Wing Alliance™\n",
      "8 Assassin’s Creed® Brotherhood\n",
      "9 Ride 2\n",
      "10 The Incredible Adventures of Van Helsing: Final Cut\n"
     ]
    }
   ],
   "metadata": {}
  },
  {
   "cell_type": "code",
   "execution_count": 21,
   "source": [
    "game_recommendation('LEGO® Batman™: The Videogame')"
   ],
   "outputs": [
    {
     "output_type": "stream",
     "name": "stdout",
     "text": [
      "[(0, 0.19645402251809166), (1, 0.2920453425011908), (2, 0.3152984925416119), (3, 0.34447965222111054), (4, 0.5130530344350364), (5, 0.19631683456984653), (6, 0.3713596393776642), (7, 0.19521037752235854), (8, 0.3938248951861542), (9, 0.6410106170070837)]\n",
      "1 Batman™: Arkham Knight\n",
      "2 汉匈决战/Han Xiongnu Wars\n",
      "3 Battle For Landriel\n",
      "4 Belle II in Virtual Reality\n",
      "5 Crusaders: Thy Kingdom Come\n",
      "6 Rivais Em Batalha\n",
      "7 FallenCore\n",
      "8 Shadow Council: The Puppeteers\n",
      "9 Unlimited Escape 2\n",
      "10 LEGO® Batman™ 3: Beyond Gotham\n"
     ]
    }
   ],
   "metadata": {}
  },
  {
   "cell_type": "code",
   "execution_count": 22,
   "source": [
    "game_recommendation(\"Sid Meier’s Civilization® VI\")"
   ],
   "outputs": [
    {
     "output_type": "stream",
     "name": "stdout",
     "text": [
      "[(0, 0.2772722431713781), (1, 0.2974730023225597), (2, 0.3286518958350911), (3, 0.3680510347236818), (4, 0.4405337662416363), (5, 0.2118002756409483), (6, 0.38187556263409045), (7, 0.20085155040005595), (8, 0.32281332766688536), (9, 0.6105400348768288)]\n",
      "1 Sorcerer King: Rivals\n",
      "2 Sumer\n",
      "3 Consortium: The Tower\n",
      "4 The Horus Heresy: Legions\n",
      "5 Distant Worlds: Universe\n",
      "6 Star Traders: 4X Empires\n",
      "7 Frozen Synapse Prime\n",
      "8 Hover\n",
      "9 TransOcean 2: Rivals\n",
      "10 Z. Year One\n"
     ]
    }
   ],
   "metadata": {}
  },
  {
   "cell_type": "code",
   "execution_count": 23,
   "source": [
    "game_recommendation(\"Grand Theft Auto V\")"
   ],
   "outputs": [
    {
     "output_type": "stream",
     "name": "stdout",
     "text": [
      "[(0, 0.17878095094245378), (1, 0.36642479465730654), (2, 0.37319577013775657), (3, 0.40206677569191274), (4, 0.5451249331439363), (5, 0.2242882343105267), (6, 0.4404647770109857), (7, 0.29336346195052254), (8, 0.3536495216931332), (9, 0.6840712037105842)]\n",
      "1 ATLAS\n",
      "2 The Crew™ 2\n",
      "3 Space Viking Raiders\n",
      "4 汉匈决战/Han Xiongnu Wars\n",
      "5 Zwei: The Arges Adventure\n",
      "6 Command: The Silent Service\n",
      "7 BLADESTORM: Nightmare\n",
      "8 Command: Modern Air / Naval Operations WOTY\n",
      "9 Grand Ages: Rome\n",
      "10 Bloody Faerie\n"
     ]
    }
   ],
   "metadata": {}
  },
  {
   "cell_type": "code",
   "execution_count": 26,
   "source": [
    "games_names = steam_and_description_df.name.values\r\n",
    "\r\n",
    "#final game recommendation function\r\n",
    "def recommender(games):\r\n",
    "    scores_sum = None\r\n",
    "    for game in games:\r\n",
    "        steam_app_id = steam_and_description_df[steam_and_description_df.name == game]['game_id'].values[0]\r\n",
    "        if scores_sum is None:\r\n",
    "            scores_sum = cs[steam_app_id]\r\n",
    "        else:\r\n",
    "            scores_sum += cs[steam_app_id]\r\n",
    "    #Create a list of enumerations for the similarity score\r\n",
    "    scores = list(enumerate(scores_sum))\r\n",
    "    #sort the list\r\n",
    "    sorted_scores = sorted(scores, key = lambda x:x[1], reverse = True)\r\n",
    "    sorted_scores = sorted_scores[1:]\r\n",
    "    \r\n",
    "    results = []\r\n",
    "    for item in sorted_scores:\r\n",
    "        game_name = games_names[item[0]]\r\n",
    "        results.append(game_name)\r\n",
    "    return results"
   ],
   "outputs": [],
   "metadata": {}
  },
  {
   "cell_type": "code",
   "execution_count": 28,
   "source": [
    "recommender([\"Grand Theft Auto V\", \"Sid Meier’s Civilization® VI\", 'LEGO® Batman™: The Videogame'])[:10]"
   ],
   "outputs": [
    {
     "output_type": "execute_result",
     "data": {
      "text/plain": [
       "['Earth 2150 Trilogy',\n",
       " 'Endciv',\n",
       " 'Batman™: Arkham Knight',\n",
       " 'Sid Meier’s Civilization® VI',\n",
       " 'Dishonored®: Death of the Outsider™',\n",
       " 'Tales of the Lumminai',\n",
       " 'VikingJourney',\n",
       " 'Dishonored 2',\n",
       " 'Command: Modern Air / Naval Operations WOTY',\n",
       " 'The I of the Dragon']"
      ]
     },
     "metadata": {},
     "execution_count": 28
    }
   ],
   "metadata": {}
  },
  {
   "cell_type": "code",
   "execution_count": null,
   "source": [],
   "outputs": [],
   "metadata": {}
  }
 ],
 "metadata": {
  "kernelspec": {
   "name": "python3",
   "display_name": "Python 3.7.4 64-bit ('py37': conda)"
  },
  "language_info": {
   "codemirror_mode": {
    "name": "ipython",
    "version": 3
   },
   "file_extension": ".py",
   "mimetype": "text/x-python",
   "name": "python",
   "nbconvert_exporter": "python",
   "pygments_lexer": "ipython3",
   "version": "3.7.4"
  },
  "interpreter": {
   "hash": "7c432cb7c66beab2e2ee88d6148390fe84b5d63fe5dbf1a000d2ed6411e2a33b"
  }
 },
 "nbformat": 4,
 "nbformat_minor": 4
}